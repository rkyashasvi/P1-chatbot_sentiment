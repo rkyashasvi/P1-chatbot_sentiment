{
  "nbformat": 4,
  "nbformat_minor": 0,
  "metadata": {
    "kernelspec": {
      "name": "python3",
      "display_name": "Python 3"
    },
    "language_info": {
      "codemirror_mode": {
        "name": "ipython",
        "version": 3
      },
      "file_extension": ".py",
      "mimetype": "text/x-python",
      "name": "python",
      "nbconvert_exporter": "python",
      "pygments_lexer": "ipython3",
      "version": "3.7.3"
    },
    "colab": {
      "name": "seq2seq.ipynb",
      "provenance": []
    },
    "accelerator": "GPU"
  },
  "cells": [
    {
      "cell_type": "code",
      "metadata": {
        "id": "G9rP8IfXRaLD",
        "colab_type": "code",
        "colab": {}
      },
      "source": [
        "import numpy as np\n",
        "import matplotlib.pyplot as plt\n",
        "from time import sleep\n",
        "from IPython.display import display, clear_output\n",
        "import random\n",
        "import sys\n",
        "def progressBar(epoch, value, endvalue, bar_length=20):\n",
        "        percent = float(value) / endvalue\n",
        "        arrow = '=' * int(round(percent * bar_length)-1) + '>'\n",
        "        spaces = ' ' * (bar_length - len(arrow))\n",
        "\n",
        "        sys.stdout.write(\"\\rEpoch:{2}  training...  [{0}] {1}%\".format(arrow + spaces, int(round(percent * 100)), epoch))\n",
        "        sys.stdout.flush()"
      ],
      "execution_count": 0,
      "outputs": []
    },
    {
      "cell_type": "code",
      "metadata": {
        "id": "Nd76v46USmkC",
        "colab_type": "code",
        "colab": {
          "base_uri": "https://localhost:8080/",
          "height": 126
        },
        "outputId": "a6968ebd-1f25-4c6c-d13a-aa060ccf78c3"
      },
      "source": [
        "from google.colab import drive\n",
        "drive.mount('/content/drive')"
      ],
      "execution_count": 3,
      "outputs": [
        {
          "output_type": "stream",
          "text": [
            "Go to this URL in a browser: https://accounts.google.com/o/oauth2/auth?client_id=947318989803-6bn6qk8qdgf4n4g3pfee6491hc0brc4i.apps.googleusercontent.com&redirect_uri=urn%3Aietf%3Awg%3Aoauth%3A2.0%3Aoob&scope=email%20https%3A%2F%2Fwww.googleapis.com%2Fauth%2Fdocs.test%20https%3A%2F%2Fwww.googleapis.com%2Fauth%2Fdrive%20https%3A%2F%2Fwww.googleapis.com%2Fauth%2Fdrive.photos.readonly%20https%3A%2F%2Fwww.googleapis.com%2Fauth%2Fpeopleapi.readonly&response_type=code\n",
            "\n",
            "Enter your authorization code:\n",
            "··········\n",
            "Mounted at /content/drive\n"
          ],
          "name": "stdout"
        }
      ]
    },
    {
      "cell_type": "code",
      "metadata": {
        "id": "C5Kkf0y8SyrF",
        "colab_type": "code",
        "colab": {}
      },
      "source": [
        "!cp \"/content/drive/My Drive/dialogues_text.txt\" \"dialogues_text.txt\"\n",
        "!cp \"/content/drive/My Drive/dialogues_act.txt\" \"dialogues_act.txt\"\n",
        "!cp \"/content/drive/My Drive/dialogues_emotion.txt\" \"dialogues_emotion.txt\"\n"
      ],
      "execution_count": 0,
      "outputs": []
    },
    {
      "cell_type": "code",
      "metadata": {
        "id": "RCIlPVfJRaLc",
        "colab_type": "code",
        "colab": {
          "base_uri": "https://localhost:8080/",
          "height": 82
        },
        "outputId": "f3af80d8-b7e8-45a7-88d1-b9457ffd407d"
      },
      "source": [
        "from keras.models import Model\n",
        "from keras.layers import Input, LSTM, Dense, Embedding, Reshape, Concatenate\n",
        "from keras.backend import concatenate, reshape\n",
        "import numpy as np\n",
        "from keras.preprocessing.sequence import pad_sequences"
      ],
      "execution_count": 5,
      "outputs": [
        {
          "output_type": "stream",
          "text": [
            "Using TensorFlow backend.\n"
          ],
          "name": "stderr"
        },
        {
          "output_type": "display_data",
          "data": {
            "text/html": [
              "<p style=\"color: red;\">\n",
              "The default version of TensorFlow in Colab will soon switch to TensorFlow 2.x.<br>\n",
              "We recommend you <a href=\"https://www.tensorflow.org/guide/migrate\" target=\"_blank\">upgrade</a> now \n",
              "or ensure your notebook will continue to use TensorFlow 1.x via the <code>%tensorflow_version 1.x</code> magic:\n",
              "<a href=\"https://colab.research.google.com/notebooks/tensorflow_version.ipynb\" target=\"_blank\">more info</a>.</p>\n"
            ],
            "text/plain": [
              "<IPython.core.display.HTML object>"
            ]
          },
          "metadata": {
            "tags": []
          }
        }
      ]
    },
    {
      "cell_type": "code",
      "metadata": {
        "id": "qtHXdMpzRaLs",
        "colab_type": "code",
        "colab": {}
      },
      "source": [
        "#hyperparameters\n",
        "\n",
        "maxWordsInSentence = 20\n",
        "epochs = 15\n",
        "numWords = 10000\n",
        "embeddingSize = 256\n",
        "LSTMHidden = 512\n",
        "batch_size=256"
      ],
      "execution_count": 0,
      "outputs": []
    },
    {
      "cell_type": "code",
      "metadata": {
        "scrolled": true,
        "id": "f7WgMX23RaL7",
        "colab_type": "code",
        "colab": {
          "base_uri": "https://localhost:8080/",
          "height": 17
        },
        "outputId": "e827ae8e-d3fa-4f7e-d4e9-c58ae05be205"
      },
      "source": [
        "#data preprocessing\n",
        "\n",
        "from keras.preprocessing.text import Tokenizer\n",
        "\n",
        "\n",
        "totalDialogues = []\n",
        "totalActions = []\n",
        "totalEmotions = []\n",
        "\n",
        "def deGualho(sentence, maxIterate = 15):\n",
        "    i = 0\n",
        "    while('(' in sentence and ')' in sentence and i <= maxIterate):\n",
        "        sentence = sentence[:sentence.index(\"(\")] + sentence[sentence.index(\")\")+1 :]\n",
        "        i += 1\n",
        "    return sentence\n",
        "        \n",
        "\n",
        "with open(\"dialogues_text.txt\", 'r', encoding=\"utf-8\") as textfile:\n",
        "    with open(\"dialogues_act.txt\", 'r', encoding=\"utf-8\") as actionfile:\n",
        "        with open(\"dialogues_emotion.txt\", 'r', encoding=\"utf-8\") as emotionfile:\n",
        "            dialogues = textfile.readlines()\n",
        "            actions = actionfile.readlines()\n",
        "            emotions = emotionfile.readlines()\n",
        "            \n",
        "            for i,dialogue in enumerate(dialogues):\n",
        "                sentences = dialogue.strip().strip(\"__eou__\").split(\"__eou__\")\n",
        "                actionList = [int(t) for t in actions[i].strip().split(\" \")]\n",
        "                emotionList = [int(t) for t in emotions[i].strip().split(\" \")]\n",
        "\n",
        "                appendable = True\n",
        "                for sentence in sentences:\n",
        "                    if (len(sentence.strip(\" \").split(\" \")) > maxWordsInSentence-1) or len(sentences) != len(actionList):\n",
        "                        appendable = False\n",
        "                if appendable:\n",
        "                    temp = [deGualho(sentence.lower().strip()) for sentence in sentences]\n",
        "                    totalDialogues.append(temp)\n",
        "                    totalActions.append(actionList)\n",
        "                    totalEmotions.append(emotionList)\n",
        "    \n",
        "\n",
        "everySentenceList = []\n",
        "\n",
        "\n",
        "for dialogue in totalDialogues:\n",
        "    for sentence in dialogue:\n",
        "        everySentenceList.append(sentence)\n",
        "        \n",
        "tokenizer = Tokenizer(num_words=numWords, filters='!\"#$%&()*+,-./:;<=>?@[\\]^`{|}~', lower=True, split=' ', char_level=False, oov_token='__unk__')\n",
        "startEnd = ['_s_ _s_ _s_ _s_ _s_ _s_ _s_ _s_ _s_ _s_ _s_ _s_ _s_ _s_ _s_ _s_ _s_ _s_ _s_ _s_ _s_',\n",
        "            '_e_ _e_ _e_ _e_ _e_ _e_ _e_ _e_ _e_ _e_ _e_ _e_ _e_ _e_ _e_ _e_ _e_ _e_ _e_ _e_ _e_ ']\n",
        "everySentenceList.extend(startEnd)\n",
        "tokenizer.fit_on_texts(everySentenceList)\n",
        "\n",
        "encoderInputDATA = [] #1\n",
        "actionDATA = []\n",
        "emotionDATA = []\n",
        "decoderInputDATA = []\n",
        "decoderTargetDATA = []\n",
        "\n",
        "def oneHot(integer, classes):\n",
        "    zeros = [0 for i in range(classes)]\n",
        "    if classes ==4:\n",
        "        zeros[integer-1] = 1\n",
        "    else:\n",
        "        \n",
        "        zeros[integer] = 1\n",
        "    return zeros\n",
        "\n",
        "def integerSequenceToOneHot(integerSequence,padding=False):\n",
        "    if padding:\n",
        "        zeros = [0 for i in range(numWords)]\n",
        "        return [zeros for j in range(len(integerSequence))]\n",
        "    OneHotSequence = []\n",
        "    for integer in integerSequence:\n",
        "        zeros = [0 for i in range(numWords)]\n",
        "        if integer == 0:\n",
        "            OneHotSequence.append(zeros)\n",
        "        else:\n",
        "            zeros[integer] = 1\n",
        "            OneHotSequence.append(zeros)\n",
        "\n",
        "    return OneHotSequence\n",
        "\n",
        "def SeqOfSeqToOneHot(integerSeqOfSeq):\n",
        "    return [integerSequenceToOneHot(i) for i in integerSeqOfSeq]\n",
        "def forSparse(seqofseq):\n",
        "    result = []\n",
        "    for seq in seqofseq:\n",
        "        sent = []\n",
        "    \n",
        "        for element in seq:\n",
        "            sent.append([element])\n",
        "        result.append(sent)\n",
        "    return result\n",
        "\n",
        "def add_s_ToSequences(sentences):\n",
        "    addedSentences = [\"_s_ \"+ sentence for sentence in sentences]\n",
        "    return addedSentences\n",
        "\n",
        "def add_e_ToSequences(sentences):\n",
        "    addedSentences = [sentence+\" _e_\" for sentence in sentences]\n",
        "    return addedSentences\n",
        "\n",
        "\n",
        "for n, Dialogue in enumerate(totalDialogues):\n",
        "    if n*1.0/len(totalDialogues) < 1:\n",
        "        print(n*1.0/len(totalDialogues), end = \"\\r\")\n",
        "\n",
        "        for i in range(len(Dialogue)):\n",
        "            if i+1 < len(Dialogue):\n",
        "                encoderInputDATA.append(pad_sequences(tokenizer.texts_to_sequences([Dialogue[i]]),maxlen=maxWordsInSentence)[0])\n",
        "                actionDATA.append([totalActions[n][i]-1])\n",
        "                emotionDATA.append([totalEmotions[n][i]])\n",
        "                decoderInputDATA.append(pad_sequences(tokenizer.texts_to_sequences(add_s_ToSequences([Dialogue[i+1]])),padding='post',maxlen=maxWordsInSentence)[0])\n",
        "                decoderTargetDATA.append(forSparse(pad_sequences(tokenizer.texts_to_sequences(add_e_ToSequences([Dialogue[i+1]])),padding='post',maxlen=maxWordsInSentence))[0])\n"
      ],
      "execution_count": 7,
      "outputs": [
        {
          "output_type": "stream",
          "text": [
            ""
          ],
          "name": "stdout"
        }
      ]
    },
    {
      "cell_type": "code",
      "metadata": {
        "scrolled": false,
        "id": "0U0ZHY6bRaML",
        "colab_type": "code",
        "colab": {
          "base_uri": "https://localhost:8080/",
          "height": 1000
        },
        "outputId": "72b0367b-d7b5-4532-8ab6-bd8024d5e91f"
      },
      "source": [
        "\n",
        "encoder_inputs = Input(shape=(None,))\n",
        "encoder_embedding =  Embedding(numWords, embeddingSize)\n",
        "x = encoder_embedding(encoder_inputs)\n",
        "encoder =  LSTM(LSTMHidden, return_state=True)\n",
        "x, state_h, state_c = encoder(x)\n",
        "encoder_states = [state_h, state_c]\n",
        "\n",
        "for_classification = Concatenate(axis=-1)(encoder_states)\n",
        "action_output = Dense(4, activation = 'softmax')(for_classification)\n",
        "emotion_output = Dense(7, activation = 'softmax')(for_classification)\n",
        "\n",
        "decoder_inputs = Input(shape=(None,))\n",
        "decoder_embedding = Embedding(numWords, embeddingSize)\n",
        "x = decoder_embedding(decoder_inputs)\n",
        "decoder = LSTM(LSTMHidden, return_sequences=True, return_state=True)\n",
        "decoder_outputs, _, _ = decoder(x, initial_state=encoder_states)\n",
        "decoder_dense = Dense(numWords, activation='softmax')\n",
        "decoder_outputs = decoder_dense(decoder_outputs)\n",
        "\n",
        "model = Model([encoder_inputs, decoder_inputs], [decoder_outputs,action_output, emotion_output])\n",
        "\n",
        "model.compile(optimizer='adam', loss='sparse_categorical_crossentropy', loss_weights=[2,0.03,0.03])\n",
        "his = model.fit([encoderInputDATA, decoderInputDATA], [np.array(decoderTargetDATA),np.array(actionDATA),np.array(emotionDATA)],\n",
        "          batch_size=batch_size,\n",
        "          epochs=epochs,\n",
        "          validation_split=0.05)\n",
        "\n",
        "model.save('seq2seq.h5')\n",
        "\n",
        "print(model.summary())"
      ],
      "execution_count": 8,
      "outputs": [
        {
          "output_type": "stream",
          "text": [
            "WARNING:tensorflow:From /usr/local/lib/python3.6/dist-packages/keras/backend/tensorflow_backend.py:66: The name tf.get_default_graph is deprecated. Please use tf.compat.v1.get_default_graph instead.\n",
            "\n",
            "WARNING:tensorflow:From /usr/local/lib/python3.6/dist-packages/keras/backend/tensorflow_backend.py:541: The name tf.placeholder is deprecated. Please use tf.compat.v1.placeholder instead.\n",
            "\n",
            "WARNING:tensorflow:From /usr/local/lib/python3.6/dist-packages/keras/backend/tensorflow_backend.py:4432: The name tf.random_uniform is deprecated. Please use tf.random.uniform instead.\n",
            "\n",
            "WARNING:tensorflow:From /usr/local/lib/python3.6/dist-packages/keras/optimizers.py:793: The name tf.train.Optimizer is deprecated. Please use tf.compat.v1.train.Optimizer instead.\n",
            "\n",
            "WARNING:tensorflow:From /usr/local/lib/python3.6/dist-packages/keras/backend/tensorflow_backend.py:3622: The name tf.log is deprecated. Please use tf.math.log instead.\n",
            "\n",
            "WARNING:tensorflow:From /usr/local/lib/python3.6/dist-packages/tensorflow_core/python/ops/math_grad.py:1424: where (from tensorflow.python.ops.array_ops) is deprecated and will be removed in a future version.\n",
            "Instructions for updating:\n",
            "Use tf.where in 2.0, which has the same broadcast rule as np.where\n",
            "WARNING:tensorflow:From /usr/local/lib/python3.6/dist-packages/keras/backend/tensorflow_backend.py:1033: The name tf.assign_add is deprecated. Please use tf.compat.v1.assign_add instead.\n",
            "\n",
            "WARNING:tensorflow:From /usr/local/lib/python3.6/dist-packages/keras/backend/tensorflow_backend.py:1020: The name tf.assign is deprecated. Please use tf.compat.v1.assign instead.\n",
            "\n",
            "WARNING:tensorflow:From /usr/local/lib/python3.6/dist-packages/keras/backend/tensorflow_backend.py:3005: The name tf.Session is deprecated. Please use tf.compat.v1.Session instead.\n",
            "\n",
            "Train on 31415 samples, validate on 1654 samples\n",
            "Epoch 1/15\n",
            "WARNING:tensorflow:From /usr/local/lib/python3.6/dist-packages/keras/backend/tensorflow_backend.py:190: The name tf.get_default_session is deprecated. Please use tf.compat.v1.get_default_session instead.\n",
            "\n",
            "WARNING:tensorflow:From /usr/local/lib/python3.6/dist-packages/keras/backend/tensorflow_backend.py:197: The name tf.ConfigProto is deprecated. Please use tf.compat.v1.ConfigProto instead.\n",
            "\n",
            "WARNING:tensorflow:From /usr/local/lib/python3.6/dist-packages/keras/backend/tensorflow_backend.py:207: The name tf.global_variables is deprecated. Please use tf.compat.v1.global_variables instead.\n",
            "\n",
            "WARNING:tensorflow:From /usr/local/lib/python3.6/dist-packages/keras/backend/tensorflow_backend.py:216: The name tf.is_variable_initialized is deprecated. Please use tf.compat.v1.is_variable_initialized instead.\n",
            "\n",
            "WARNING:tensorflow:From /usr/local/lib/python3.6/dist-packages/keras/backend/tensorflow_backend.py:223: The name tf.variables_initializer is deprecated. Please use tf.compat.v1.variables_initializer instead.\n",
            "\n",
            "31415/31415 [==============================] - 49s 2ms/step - loss: 6.3459 - dense_3_loss: 3.1015 - dense_1_loss: 3.5249 - dense_2_loss: 1.2382 - val_loss: 4.6047 - val_dense_3_loss: 2.2294 - val_dense_1_loss: 3.9588 - val_dense_2_loss: 0.9042\n",
            "Epoch 2/15\n",
            "31415/31415 [==============================] - 42s 1ms/step - loss: 4.9701 - dense_3_loss: 2.4215 - dense_1_loss: 3.2969 - dense_2_loss: 0.9428 - val_loss: 4.4283 - val_dense_3_loss: 2.1440 - val_dense_1_loss: 3.8364 - val_dense_2_loss: 0.8426\n",
            "Epoch 3/15\n",
            "31415/31415 [==============================] - 42s 1ms/step - loss: 4.7511 - dense_3_loss: 2.3153 - dense_1_loss: 3.2183 - dense_2_loss: 0.8005 - val_loss: 4.2216 - val_dense_3_loss: 2.0422 - val_dense_1_loss: 3.7838 - val_dense_2_loss: 0.7915\n",
            "Epoch 4/15\n",
            "31415/31415 [==============================] - 42s 1ms/step - loss: 4.5694 - dense_3_loss: 2.2257 - dense_1_loss: 3.1758 - dense_2_loss: 0.7597 - val_loss: 4.0769 - val_dense_3_loss: 1.9688 - val_dense_1_loss: 3.7995 - val_dense_2_loss: 0.8459\n",
            "Epoch 5/15\n",
            "31415/31415 [==============================] - 43s 1ms/step - loss: 4.3708 - dense_3_loss: 2.1268 - dense_1_loss: 3.1565 - dense_2_loss: 0.7500 - val_loss: 3.8835 - val_dense_3_loss: 1.8727 - val_dense_1_loss: 3.8032 - val_dense_2_loss: 0.7981\n",
            "Epoch 6/15\n",
            "31415/31415 [==============================] - 43s 1ms/step - loss: 4.1548 - dense_3_loss: 2.0195 - dense_1_loss: 3.1282 - dense_2_loss: 0.7303 - val_loss: 3.7614 - val_dense_3_loss: 1.8120 - val_dense_1_loss: 3.7830 - val_dense_2_loss: 0.7980\n",
            "Epoch 7/15\n",
            "31415/31415 [==============================] - 43s 1ms/step - loss: 3.9793 - dense_3_loss: 1.9319 - dense_1_loss: 3.1236 - dense_2_loss: 0.7245 - val_loss: 3.6916 - val_dense_3_loss: 1.7764 - val_dense_1_loss: 3.7893 - val_dense_2_loss: 0.8382\n",
            "Epoch 8/15\n",
            "31415/31415 [==============================] - 42s 1ms/step - loss: 3.8304 - dense_3_loss: 1.8578 - dense_1_loss: 3.1039 - dense_2_loss: 0.7237 - val_loss: 3.6194 - val_dense_3_loss: 1.7409 - val_dense_1_loss: 3.7727 - val_dense_2_loss: 0.8108\n",
            "Epoch 9/15\n",
            "31415/31415 [==============================] - 42s 1ms/step - loss: 3.6917 - dense_3_loss: 1.7890 - dense_1_loss: 3.0897 - dense_2_loss: 0.7024 - val_loss: 3.5687 - val_dense_3_loss: 1.7156 - val_dense_1_loss: 3.7640 - val_dense_2_loss: 0.8207\n",
            "Epoch 10/15\n",
            "31415/31415 [==============================] - 42s 1ms/step - loss: 3.5550 - dense_3_loss: 1.7242 - dense_1_loss: 2.8492 - dense_2_loss: 0.7038 - val_loss: 3.4650 - val_dense_3_loss: 1.7067 - val_dense_1_loss: 0.8995 - val_dense_2_loss: 0.8239\n",
            "Epoch 11/15\n",
            "31415/31415 [==============================] - 42s 1ms/step - loss: 3.3597 - dense_3_loss: 1.6603 - dense_1_loss: 0.6054 - dense_2_loss: 0.6957 - val_loss: 3.4225 - val_dense_3_loss: 1.6870 - val_dense_1_loss: 0.7717 - val_dense_2_loss: 0.8446\n",
            "Epoch 12/15\n",
            "31415/31415 [==============================] - 42s 1ms/step - loss: 3.2319 - dense_3_loss: 1.5973 - dense_1_loss: 0.5504 - dense_2_loss: 0.6919 - val_loss: 3.4120 - val_dense_3_loss: 1.6828 - val_dense_1_loss: 0.7251 - val_dense_2_loss: 0.8194\n",
            "Epoch 13/15\n",
            "31415/31415 [==============================] - 42s 1ms/step - loss: 3.1061 - dense_3_loss: 1.5349 - dense_1_loss: 0.5205 - dense_2_loss: 0.6869 - val_loss: 3.4019 - val_dense_3_loss: 1.6782 - val_dense_1_loss: 0.7048 - val_dense_2_loss: 0.8133\n",
            "Epoch 14/15\n",
            "31415/31415 [==============================] - 42s 1ms/step - loss: 2.9809 - dense_3_loss: 1.4729 - dense_1_loss: 0.4894 - dense_2_loss: 0.6828 - val_loss: 3.4037 - val_dense_3_loss: 1.6786 - val_dense_1_loss: 0.7309 - val_dense_2_loss: 0.8188\n",
            "Epoch 15/15\n",
            "31415/31415 [==============================] - 42s 1ms/step - loss: 2.8567 - dense_3_loss: 1.4112 - dense_1_loss: 0.4682 - dense_2_loss: 0.6762 - val_loss: 3.4009 - val_dense_3_loss: 1.6772 - val_dense_1_loss: 0.7162 - val_dense_2_loss: 0.8356\n",
            "Model: \"model_1\"\n",
            "__________________________________________________________________________________________________\n",
            "Layer (type)                    Output Shape         Param #     Connected to                     \n",
            "==================================================================================================\n",
            "input_1 (InputLayer)            (None, None)         0                                            \n",
            "__________________________________________________________________________________________________\n",
            "input_2 (InputLayer)            (None, None)         0                                            \n",
            "__________________________________________________________________________________________________\n",
            "embedding_1 (Embedding)         (None, None, 256)    2560000     input_1[0][0]                    \n",
            "__________________________________________________________________________________________________\n",
            "embedding_2 (Embedding)         (None, None, 256)    2560000     input_2[0][0]                    \n",
            "__________________________________________________________________________________________________\n",
            "lstm_1 (LSTM)                   [(None, 512), (None, 1574912     embedding_1[0][0]                \n",
            "__________________________________________________________________________________________________\n",
            "lstm_2 (LSTM)                   [(None, None, 512),  1574912     embedding_2[0][0]                \n",
            "                                                                 lstm_1[0][1]                     \n",
            "                                                                 lstm_1[0][2]                     \n",
            "__________________________________________________________________________________________________\n",
            "concatenate_1 (Concatenate)     (None, 1024)         0           lstm_1[0][1]                     \n",
            "                                                                 lstm_1[0][2]                     \n",
            "__________________________________________________________________________________________________\n",
            "dense_3 (Dense)                 (None, None, 10000)  5130000     lstm_2[0][0]                     \n",
            "__________________________________________________________________________________________________\n",
            "dense_1 (Dense)                 (None, 4)            4100        concatenate_1[0][0]              \n",
            "__________________________________________________________________________________________________\n",
            "dense_2 (Dense)                 (None, 7)            7175        concatenate_1[0][0]              \n",
            "==================================================================================================\n",
            "Total params: 13,411,099\n",
            "Trainable params: 13,411,099\n",
            "Non-trainable params: 0\n",
            "__________________________________________________________________________________________________\n",
            "None\n"
          ],
          "name": "stdout"
        }
      ]
    },
    {
      "cell_type": "code",
      "metadata": {
        "scrolled": false,
        "id": "h3n8E87CRaMY",
        "colab_type": "code",
        "colab": {}
      },
      "source": [
        "encoder_model = Model(encoder_inputs, encoder_states)\n",
        "\n",
        "decoder_state_input_h = Input(shape=(LSTMHidden,))\n",
        "decoder_state_input_c = Input(shape=(LSTMHidden,))\n",
        "decoder_states_inputs = [decoder_state_input_h, decoder_state_input_c]\n",
        "decoder_outputs, state_h, state_c = decoder(decoder_embedding(decoder_inputs), initial_state=decoder_states_inputs)\n",
        "decoder_states = [state_h, state_c]\n",
        "decoder_outputs = decoder_dense(decoder_outputs)\n",
        "decoder_model = Model(\n",
        "    [decoder_inputs] + decoder_states_inputs,\n",
        "    [decoder_outputs] + decoder_states)\n",
        "property_model = Model(encoder_inputs, [action_output, emotion_output])\n",
        "\n",
        "\n",
        "\n",
        "target_token_index = tokenizer.word_index\n",
        "reverse_target_char_index = tokenizer.index_word\n",
        "\n",
        "def decode_sequence(input_seq):\n",
        "\n",
        "    states_value = encoder_model.predict(input_seq)\n",
        "    actionOutput, emotionOutput= property_model.predict(input_seq)\n",
        "\n",
        "    target_seq = np.zeros((1, 1))\n",
        "    target_seq[0, 0] = target_token_index['_s_']\n",
        "    \n",
        "  \n",
        "    stop_condition = False\n",
        "    decoded_sentence = ''\n",
        "    while not stop_condition:\n",
        "        output_tokens, h, c = decoder_model.predict(\n",
        "            [target_seq] + states_value)\n",
        "\n",
        "      \n",
        "        sampled_token_index = np.argmax(output_tokens[0, -1, :])\n",
        "        sampled_char = reverse_target_char_index[sampled_token_index]\n",
        "        if sampled_char != \"_e_\":\n",
        "            decoded_sentence += sampled_char + \" \"\n",
        "        \n",
        "\n",
        "        if (sampled_char == '_e_' or\n",
        "               len(decoded_sentence.strip().split(\" \")) > maxWordsInSentence):\n",
        "            stop_condition = True\n",
        "\n",
        "  \n",
        "        target_seq = np.zeros((1, 1))\n",
        "        target_seq[0, 0] =  sampled_token_index\n",
        "\n",
        "        \n",
        "        states_value = [h, c]\n",
        "\n",
        "    return decoded_sentence, actionOutput[0], emotionOutput[0]"
      ],
      "execution_count": 0,
      "outputs": []
    },
    {
      "cell_type": "code",
      "metadata": {
        "id": "37FfsqRTRaMj",
        "colab_type": "code",
        "colab": {
          "base_uri": "https://localhost:8080/",
          "height": 493
        },
        "outputId": "c6145ddd-dc99-4c83-d3bf-96d3b8c174c1"
      },
      "source": [
        "%matplotlib inline\n",
        "import matplotlib.pyplot as plt\n",
        "\n",
        "fig, loss_ax = plt.subplots()\n",
        "\n",
        "acc_ax = loss_ax.twinx()\n",
        "\n",
        "loss_ax.plot(hist.history['loss'], 'y', label='train loss')\n",
        "loss_ax.plot(hist.history['val_loss'], 'r', label='val loss')\n",
        "\n",
        "acc_ax.plot(hist.history['acc'], 'b', label='train acc')\n",
        "acc_ax.plot(hist.history['val_acc'], 'g', label='val acc')\n",
        "\n",
        "loss_ax.set_xlabel('epoch')\n",
        "loss_ax.set_ylabel('loss')\n",
        "acc_ax.set_ylabel('accuray')\n",
        "\n",
        "loss_ax.legend(loc='upper left')\n",
        "acc_ax.legend(loc='lower left')\n",
        "\n",
        "plt.show()"
      ],
      "execution_count": 10,
      "outputs": [
        {
          "output_type": "error",
          "ename": "NameError",
          "evalue": "ignored",
          "traceback": [
            "\u001b[0;31m---------------------------------------------------------------------------\u001b[0m",
            "\u001b[0;31mNameError\u001b[0m                                 Traceback (most recent call last)",
            "\u001b[0;32m<ipython-input-10-e905d207e38d>\u001b[0m in \u001b[0;36m<module>\u001b[0;34m()\u001b[0m\n\u001b[1;32m      6\u001b[0m \u001b[0macc_ax\u001b[0m \u001b[0;34m=\u001b[0m \u001b[0mloss_ax\u001b[0m\u001b[0;34m.\u001b[0m\u001b[0mtwinx\u001b[0m\u001b[0;34m(\u001b[0m\u001b[0;34m)\u001b[0m\u001b[0;34m\u001b[0m\u001b[0;34m\u001b[0m\u001b[0m\n\u001b[1;32m      7\u001b[0m \u001b[0;34m\u001b[0m\u001b[0m\n\u001b[0;32m----> 8\u001b[0;31m \u001b[0mloss_ax\u001b[0m\u001b[0;34m.\u001b[0m\u001b[0mplot\u001b[0m\u001b[0;34m(\u001b[0m\u001b[0mhist\u001b[0m\u001b[0;34m.\u001b[0m\u001b[0mhistory\u001b[0m\u001b[0;34m[\u001b[0m\u001b[0;34m'loss'\u001b[0m\u001b[0;34m]\u001b[0m\u001b[0;34m,\u001b[0m \u001b[0;34m'y'\u001b[0m\u001b[0;34m,\u001b[0m \u001b[0mlabel\u001b[0m\u001b[0;34m=\u001b[0m\u001b[0;34m'train loss'\u001b[0m\u001b[0;34m)\u001b[0m\u001b[0;34m\u001b[0m\u001b[0;34m\u001b[0m\u001b[0m\n\u001b[0m\u001b[1;32m      9\u001b[0m \u001b[0mloss_ax\u001b[0m\u001b[0;34m.\u001b[0m\u001b[0mplot\u001b[0m\u001b[0;34m(\u001b[0m\u001b[0mhist\u001b[0m\u001b[0;34m.\u001b[0m\u001b[0mhistory\u001b[0m\u001b[0;34m[\u001b[0m\u001b[0;34m'val_loss'\u001b[0m\u001b[0;34m]\u001b[0m\u001b[0;34m,\u001b[0m \u001b[0;34m'r'\u001b[0m\u001b[0;34m,\u001b[0m \u001b[0mlabel\u001b[0m\u001b[0;34m=\u001b[0m\u001b[0;34m'val loss'\u001b[0m\u001b[0;34m)\u001b[0m\u001b[0;34m\u001b[0m\u001b[0;34m\u001b[0m\u001b[0m\n\u001b[1;32m     10\u001b[0m \u001b[0;34m\u001b[0m\u001b[0m\n",
            "\u001b[0;31mNameError\u001b[0m: name 'hist' is not defined"
          ]
        },
        {
          "output_type": "display_data",
          "data": {
            "image/png": "[encoded data removed]",
            "text/plain": [
              "<Figure size 432x288 with 2 Axes>"
            ]
          },
          "metadata": {
            "tags": []
          }
        }
      ]
    },
    {
      "cell_type": "code",
      "metadata": {
        "id": "OJfcihw2RaMt",
        "colab_type": "code",
        "colab": {}
      },
      "source": [
        "def response(input_):\n",
        "    \n",
        "    sentenceOutput , actionOutput, emotionOutput = decode_sequence(\n",
        "        pad_sequences(tokenizer.texts_to_sequences([input_]),maxlen=maxWordsInSentence,))\n",
        "\n",
        "    return sentenceOutput, actionOutput, emotionOutput\n",
        "\n",
        "def chat():\n",
        "    fullText = \"\"\n",
        "    \n",
        "    maxTurn = int(input(\"turns (1~6) : \"));fullText = fullText+ \"turns(1~6) : \"+str(maxTurn)\n",
        "    print(\".\\n\\n\");fullText += \"\\n.\\n\\n\"\n",
        "    \n",
        "    i = 0\n",
        "    while(i < maxTurn):\n",
        "        input_ = input(str(i+1)+\" human : \");fullText = fullText+ str(i+1)+\" human : \"+ input_+\"\\n\"\n",
        "        _sentenceOutput, _actionOutput, _emotionOutput = response(input_)\n",
        "        print(str(i+1)+\" bot : \"+_sentenceOutput);fullText = fullText+str(i+1)+\" bot : \"+_sentenceOutput+\"\\n\\n\"\n",
        "        #clear_output(wait=True)\n",
        "        #print(fullText)\n",
        "        printGraphs(_actionOutput, _emotionOutput)\n",
        "        sleep(0.01)\n",
        "        i+=1\n",
        "    \n",
        "    print(\"\\n.\")\n",
        "        \n",
        "def printGraphs(actionOutput,emotionOutput):\n",
        "    fig, (ax1,ax2) = plt.subplots(1,2, figsize=(13,4),gridspec_kw = {'width_ratios':[4, 7]})\n",
        "    \n",
        "    actions = ('Inform', 'Question', 'Directive', 'Commissive')\n",
        "    y_pos = np.arange(len(actions))\n",
        "    barList = ax1.bar(y_pos, actionOutput, align='center', alpha=0.5)\n",
        "    barList[np.argmax(actionOutput)].set_color(\"red\")\n",
        "    ax1.set_xticks(y_pos, actions)\n",
        "    ax1.set_xticklabels([0,'Inform', 'Question', 'Directive', 'Commissive'])\n",
        "    ax1.set_ylabel('Probability')\n",
        "    ax1.set_ylim(0,1)\n",
        "    ax1.set_title('Action analysis')\n",
        "\n",
        "    \n",
        "    emotions =('neutral','anger', 'disgust', 'fear', 'happiness', 'sadness', 'surprise')\n",
        "    y_pos = np.arange(len(emotions))\n",
        "    barList = ax2.bar(y_pos, emotionOutput, align='center', alpha=0.5)\n",
        "    barList[np.argmax(emotionOutput)].set_color(\"red\")\n",
        "    ax2.set_xticks(y_pos, emotions)\n",
        "    ax2.set_xticklabels([0,'neutral','anger', 'disgust', 'fear', 'happiness', 'sadness', 'surprise'])\n",
        "    ax2.set_ylabel('Probability')\n",
        "    ax2.set_ylim(0,1)\n",
        "    ax2.set_title('Emotion analysis')\n",
        "\n",
        "    plt.show()"
      ],
      "execution_count": 0,
      "outputs": []
    },
    {
      "cell_type": "code",
      "metadata": {
        "scrolled": false,
        "id": "ciX0YibFRaM4",
        "colab_type": "code",
        "colab": {
          "base_uri": "https://localhost:8080/",
          "height": 1000
        },
        "outputId": "4385137d-3008-4ea1-c528-821d88560ba5"
      },
      "source": [
        "chat()\n"
      ],
      "execution_count": 16,
      "outputs": [
        {
          "output_type": "stream",
          "text": [
            "turns (1~6) : 7\n",
            ".\n",
            "\n",
            "\n",
            "1 human : hello? nice to meet you\n",
            "1 bot : nice to meet you too \n"
          ],
          "name": "stdout"
        },
        {
          "output_type": "display_data",
          "data": {
            "image/png": "[encoded data removed]",
            "text/plain": [
              "<Figure size 936x288 with 2 Axes>"
            ]
          },
          "metadata": {
            "tags": []
          }
        },
        {
          "output_type": "stream",
          "text": [
            "2 human : how are you doing?\n",
            "2 bot : i ’ m going to be fine \n"
          ],
          "name": "stdout"
        },
        {
          "output_type": "display_data",
          "data": {
            "image/png": "[encoded data removed]",
            "text/plain": [
              "<Figure size 936x288 with 2 Axes>"
            ]
          },
          "metadata": {
            "tags": []
          }
        },
        {
          "output_type": "stream",
          "text": [
            "3 human : that's nice!\n",
            "3 bot : i don't know how about it \n"
          ],
          "name": "stdout"
        },
        {
          "output_type": "display_data",
          "data": {
            "image/png": "[encoded data removed]",
            "text/plain": [
              "<Figure size 936x288 with 2 Axes>"
            ]
          },
          "metadata": {
            "tags": []
          }
        },
        {
          "output_type": "stream",
          "text": [
            "4 human : I'm so sad\n",
            "4 bot : i don't know i'm not sure \n"
          ],
          "name": "stdout"
        },
        {
          "output_type": "display_data",
          "data": {
            "image/png": "[encoded data removed]",
            "text/plain": [
              "<Figure size 936x288 with 2 Axes>"
            ]
          },
          "metadata": {
            "tags": []
          }
        },
        {
          "output_type": "stream",
          "text": [
            "5 human : today is the best day in my life\n",
            "5 bot : yes it is a good choice \n"
          ],
          "name": "stdout"
        },
        {
          "output_type": "display_data",
          "data": {
            "image/png": "[encoded data removed]",
            "text/plain": [
              "<Figure size 936x288 with 2 Axes>"
            ]
          },
          "metadata": {
            "tags": []
          }
        },
        {
          "output_type": "stream",
          "text": [
            "6 human : can you pick me up today?\n",
            "6 bot : yes \n"
          ],
          "name": "stdout"
        },
        {
          "output_type": "display_data",
          "data": {
            "image/png": "[encoded data removed]",
            "text/plain": [
              "<Figure size 936x288 with 2 Axes>"
            ]
          },
          "metadata": {
            "tags": []
          }
        },
        {
          "output_type": "stream",
          "text": [
            "7 human : how old are you?\n",
            "7 bot : it's a quarter to be a m \n"
          ],
          "name": "stdout"
        },
        {
          "output_type": "display_data",
          "data": {
            "image/png": "[encoded data removed]",
            "text/plain": [
              "<Figure size 936x288 with 2 Axes>"
            ]
          },
          "metadata": {
            "tags": []
          }
        },
        {
          "output_type": "stream",
          "text": [
            "\n",
            ".\n"
          ],
          "name": "stdout"
        }
      ]
    },
    {
      "cell_type": "code",
      "metadata": {
        "id": "aCsG95h1RaNF",
        "colab_type": "code",
        "colab": {},
        "outputId": "de8eaef8-43db-4d35-930e-ce23c305760b"
      },
      "source": [
        "np.random.randint(0, 9, size=(32,5,1))"
      ],
      "execution_count": 0,
      "outputs": [
        {
          "output_type": "execute_result",
          "data": {
            "text/plain": [
              "array([[[6],\n",
              "        [0],\n",
              "        [8],\n",
              "        [8],\n",
              "        [0]],\n",
              "\n",
              "       [[2],\n",
              "        [0],\n",
              "        [2],\n",
              "        [5],\n",
              "        [3]],\n",
              "\n",
              "       [[3],\n",
              "        [0],\n",
              "        [4],\n",
              "        [1],\n",
              "        [7]],\n",
              "\n",
              "       [[6],\n",
              "        [0],\n",
              "        [2],\n",
              "        [4],\n",
              "        [2]],\n",
              "\n",
              "       [[2],\n",
              "        [2],\n",
              "        [7],\n",
              "        [0],\n",
              "        [8]],\n",
              "\n",
              "       [[1],\n",
              "        [2],\n",
              "        [3],\n",
              "        [7],\n",
              "        [7]],\n",
              "\n",
              "       [[8],\n",
              "        [3],\n",
              "        [1],\n",
              "        [5],\n",
              "        [5]],\n",
              "\n",
              "       [[7],\n",
              "        [4],\n",
              "        [2],\n",
              "        [1],\n",
              "        [6]],\n",
              "\n",
              "       [[7],\n",
              "        [3],\n",
              "        [5],\n",
              "        [2],\n",
              "        [6]],\n",
              "\n",
              "       [[8],\n",
              "        [8],\n",
              "        [6],\n",
              "        [5],\n",
              "        [4]],\n",
              "\n",
              "       [[0],\n",
              "        [3],\n",
              "        [3],\n",
              "        [0],\n",
              "        [2]],\n",
              "\n",
              "       [[2],\n",
              "        [8],\n",
              "        [5],\n",
              "        [0],\n",
              "        [7]],\n",
              "\n",
              "       [[6],\n",
              "        [0],\n",
              "        [7],\n",
              "        [6],\n",
              "        [5]],\n",
              "\n",
              "       [[5],\n",
              "        [5],\n",
              "        [1],\n",
              "        [2],\n",
              "        [0]],\n",
              "\n",
              "       [[1],\n",
              "        [2],\n",
              "        [5],\n",
              "        [6],\n",
              "        [0]],\n",
              "\n",
              "       [[1],\n",
              "        [2],\n",
              "        [4],\n",
              "        [6],\n",
              "        [6]],\n",
              "\n",
              "       [[2],\n",
              "        [2],\n",
              "        [8],\n",
              "        [7],\n",
              "        [8]],\n",
              "\n",
              "       [[2],\n",
              "        [7],\n",
              "        [5],\n",
              "        [6],\n",
              "        [5]],\n",
              "\n",
              "       [[3],\n",
              "        [1],\n",
              "        [0],\n",
              "        [1],\n",
              "        [2]],\n",
              "\n",
              "       [[7],\n",
              "        [5],\n",
              "        [8],\n",
              "        [3],\n",
              "        [4]],\n",
              "\n",
              "       [[3],\n",
              "        [8],\n",
              "        [3],\n",
              "        [1],\n",
              "        [2]],\n",
              "\n",
              "       [[4],\n",
              "        [3],\n",
              "        [7],\n",
              "        [3],\n",
              "        [4]],\n",
              "\n",
              "       [[8],\n",
              "        [2],\n",
              "        [2],\n",
              "        [1],\n",
              "        [2]],\n",
              "\n",
              "       [[1],\n",
              "        [5],\n",
              "        [0],\n",
              "        [1],\n",
              "        [3]],\n",
              "\n",
              "       [[3],\n",
              "        [2],\n",
              "        [7],\n",
              "        [5],\n",
              "        [3]],\n",
              "\n",
              "       [[3],\n",
              "        [1],\n",
              "        [3],\n",
              "        [4],\n",
              "        [1]],\n",
              "\n",
              "       [[5],\n",
              "        [1],\n",
              "        [2],\n",
              "        [7],\n",
              "        [3]],\n",
              "\n",
              "       [[7],\n",
              "        [6],\n",
              "        [3],\n",
              "        [2],\n",
              "        [5]],\n",
              "\n",
              "       [[7],\n",
              "        [2],\n",
              "        [6],\n",
              "        [4],\n",
              "        [6]],\n",
              "\n",
              "       [[0],\n",
              "        [5],\n",
              "        [7],\n",
              "        [3],\n",
              "        [0]],\n",
              "\n",
              "       [[6],\n",
              "        [4],\n",
              "        [7],\n",
              "        [4],\n",
              "        [7]],\n",
              "\n",
              "       [[3],\n",
              "        [5],\n",
              "        [0],\n",
              "        [0],\n",
              "        [6]]])"
            ]
          },
          "metadata": {
            "tags": []
          },
          "execution_count": 24
        }
      ]
    },
    {
      "cell_type": "code",
      "metadata": {
        "id": "iSUpBuFRRaNQ",
        "colab_type": "code",
        "colab": {}
      },
      "source": [
        ""
      ],
      "execution_count": 0,
      "outputs": []
    }
  ]
}